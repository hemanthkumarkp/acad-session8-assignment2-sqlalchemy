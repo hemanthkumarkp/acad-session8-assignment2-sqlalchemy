{
 "cells": [
  {
   "cell_type": "markdown",
   "metadata": {},
   "source": [
    "Read the following data set:\n",
    "https://archive.ics.uci.edu/ml/machine-learning-databases/adult/adult.data\n",
    "Task:\n",
    "1. Create an sqlalchemy engine using a sample from the data set\n",
    "2. Write two basic update queries\n",
    "3. Write two delete queries\n",
    "4. Write two filter queries\n",
    "5. Write two function queries"
   ]
  },
  {
   "cell_type": "code",
   "execution_count": null,
   "metadata": {},
   "outputs": [],
   "source": [
    "1.Create an sqlalchemy engine using a sample from the data set"
   ]
  },
  {
   "cell_type": "code",
   "execution_count": 3,
   "metadata": {},
   "outputs": [
    {
     "name": "stdout",
     "output_type": "stream",
     "text": [
      "2018-12-31 15:43:08,366 INFO sqlalchemy.engine.base.Engine SELECT CAST('test plain returns' AS VARCHAR(60)) AS anon_1\n",
      "2018-12-31 15:43:08,367 INFO sqlalchemy.engine.base.Engine ()\n",
      "2018-12-31 15:43:08,368 INFO sqlalchemy.engine.base.Engine SELECT CAST('test unicode returns' AS VARCHAR(60)) AS anon_1\n",
      "2018-12-31 15:43:08,369 INFO sqlalchemy.engine.base.Engine ()\n",
      "2018-12-31 15:43:17,855 INFO sqlalchemy.engine.base.Engine PRAGMA table_info(\"adults1\")\n",
      "2018-12-31 15:43:17,856 INFO sqlalchemy.engine.base.Engine ()\n",
      "2018-12-31 15:43:17,860 INFO sqlalchemy.engine.base.Engine \n",
      "CREATE TABLE adults1 (\n",
      "\t\"index\" BIGINT, \n",
      "\tage BIGINT, \n",
      "\tworkclass TEXT, \n",
      "\tfnlwgt BIGINT, \n",
      "\teducation TEXT, \n",
      "\t\"educationNum\" BIGINT, \n",
      "\tmarital_status TEXT, \n",
      "\toccupation TEXT, \n",
      "\trelationship TEXT, \n",
      "\trace TEXT, \n",
      "\tsex TEXT, \n",
      "\tcapital_gain BIGINT, \n",
      "\tcapital_loss BIGINT, \n",
      "\thours_per_week BIGINT, \n",
      "\tnative_country TEXT, \n",
      "\tincome TEXT\n",
      ")\n",
      "\n",
      "\n",
      "2018-12-31 15:43:17,861 INFO sqlalchemy.engine.base.Engine ()\n",
      "2018-12-31 15:43:17,875 INFO sqlalchemy.engine.base.Engine COMMIT\n",
      "2018-12-31 15:43:17,876 INFO sqlalchemy.engine.base.Engine CREATE INDEX ix_adults1_index ON adults1 (\"index\")\n",
      "2018-12-31 15:43:17,877 INFO sqlalchemy.engine.base.Engine ()\n",
      "2018-12-31 15:43:17,885 INFO sqlalchemy.engine.base.Engine COMMIT\n",
      "2018-12-31 15:43:17,917 INFO sqlalchemy.engine.base.Engine BEGIN (implicit)\n",
      "2018-12-31 15:43:18,334 INFO sqlalchemy.engine.base.Engine INSERT INTO adults1 (\"index\", age, workclass, fnlwgt, education, \"educationNum\", marital_status, occupation, relationship, race, sex, capital_gain, capital_loss, hours_per_week, native_country, income) VALUES (?, ?, ?, ?, ?, ?, ?, ?, ?, ?, ?, ?, ?, ?, ?, ?)\n",
      "2018-12-31 15:43:18,335 INFO sqlalchemy.engine.base.Engine ((0, 39, ' State-gov', 77516, ' Bachelors', 13, ' Never-married', ' Adm-clerical', ' Not-in-family', ' White', ' Male', 2174, 0, 40, ' United-States', ' <=50K'), (1, 50, ' Self-emp-not-inc', 83311, ' Bachelors', 13, ' Married-civ-spouse', ' Exec-managerial', ' Husband', ' White', ' Male', 0, 0, 13, ' United-States', ' <=50K'), (2, 38, ' Private', 215646, ' HS-grad', 9, ' Divorced', ' Handlers-cleaners', ' Not-in-family', ' White', ' Male', 0, 0, 40, ' United-States', ' <=50K'), (3, 53, ' Private', 234721, ' 11th', 7, ' Married-civ-spouse', ' Handlers-cleaners', ' Husband', ' Black', ' Male', 0, 0, 40, ' United-States', ' <=50K'), (4, 28, ' Private', 338409, ' Bachelors', 13, ' Married-civ-spouse', ' Prof-specialty', ' Wife', ' Black', ' Female', 0, 0, 40, ' Cuba', ' <=50K'), (5, 37, ' Private', 284582, ' Masters', 14, ' Married-civ-spouse', ' Exec-managerial', ' Wife', ' White', ' Female', 0, 0, 40, ' United-States', ' <=50K'), (6, 49, ' Private', 160187, ' 9th', 5, ' Married-spouse-absent', ' Other-service', ' Not-in-family', ' Black', ' Female', 0, 0, 16, ' Jamaica', ' <=50K'), (7, 52, ' Self-emp-not-inc', 209642, ' HS-grad', 9, ' Married-civ-spouse', ' Exec-managerial', ' Husband', ' White', ' Male', 0, 0, 45, ' United-States', ' >50K')  ... displaying 10 of 32561 total bound parameter sets ...  (32559, 22, ' Private', 201490, ' HS-grad', 9, ' Never-married', ' Adm-clerical', ' Own-child', ' White', ' Male', 0, 0, 20, ' United-States', ' <=50K'), (32560, 52, ' Self-emp-inc', 287927, ' HS-grad', 9, ' Married-civ-spouse', ' Exec-managerial', ' Wife', ' White', ' Female', 15024, 0, 40, ' United-States', ' >50K'))\n",
      "2018-12-31 15:43:18,487 INFO sqlalchemy.engine.base.Engine COMMIT\n"
     ]
    }
   ],
   "source": [
    "import sqlalchemy\n",
    "from sqlalchemy import create_engine\n",
    "from sqlalchemy import create_engine, MetaData, Table, Column, Integer, String\n",
    "from sqlalchemy.ext.declarative import declarative_base\n",
    "import pandas as pd\n",
    "\n",
    "engine = create_engine('sqlite:///sqlliteadults.db', echo=True)\n",
    "Base = declarative_base()\n",
    "Base.metadata.create_all(engine)\n",
    "cols=['age','workclass','fnlwgt','education','educationNum','marital_status','occupation','relationship','race','sex','capital_gain','capital_loss','hours_per_week','native_country','income']\n",
    "adultDf = pd.read_csv('https://archive.ics.uci.edu/ml/machine-learning-databases/adult/adult.data',sep=\",\",header=None,names=cols)\n",
    "adultDf.to_sql('adults1', engine)\n"
   ]
  },
  {
   "cell_type": "markdown",
   "metadata": {},
   "source": [
    "2.Write two basic update queries"
   ]
  },
  {
   "cell_type": "code",
   "execution_count": 5,
   "metadata": {},
   "outputs": [
    {
     "name": "stdout",
     "output_type": "stream",
     "text": [
      "2018-12-31 15:15:52,906 INFO sqlalchemy.engine.base.Engine Update adults set sex='M' where sex=' Male' \n",
      "2018-12-31 15:15:52,908 INFO sqlalchemy.engine.base.Engine ()\n",
      "2018-12-31 15:15:53,064 INFO sqlalchemy.engine.base.Engine COMMIT\n"
     ]
    }
   ],
   "source": [
    "2.1# update Male -> M \n",
    "result = conn.execute(\"Update adults1 set sex='M' where sex=' Male' \")"
   ]
  },
  {
   "cell_type": "code",
   "execution_count": null,
   "metadata": {},
   "outputs": [],
   "source": [
    "result = conn.execute('SELECT sex FROM adults1 limit 20').fetchall()\n",
    "print(result)"
   ]
  },
  {
   "cell_type": "code",
   "execution_count": 9,
   "metadata": {},
   "outputs": [
    {
     "name": "stdout",
     "output_type": "stream",
     "text": [
      "2018-12-31 15:18:17,486 INFO sqlalchemy.engine.base.Engine Update adults set native_country ='USA' where native_country =' United-States' \n",
      "2018-12-31 15:18:17,489 INFO sqlalchemy.engine.base.Engine ()\n",
      "2018-12-31 15:18:17,760 INFO sqlalchemy.engine.base.Engine COMMIT\n"
     ]
    }
   ],
   "source": [
    "2.2# update Native Country United-States -> USA\n",
    "result = conn.execute(\"Update adults1 set native_country ='USA' where native_country =' United-States' \")"
   ]
  },
  {
   "cell_type": "code",
   "execution_count": 11,
   "metadata": {},
   "outputs": [
    {
     "name": "stdout",
     "output_type": "stream",
     "text": [
      "2018-12-31 15:21:50,689 INFO sqlalchemy.engine.base.Engine SELECT distinct(native_country)  FROM adults limit 20\n",
      "2018-12-31 15:21:50,693 INFO sqlalchemy.engine.base.Engine ()\n",
      "[('USA',), (' Cuba',), (' Jamaica',), (' India',), (' ?',), (' Mexico',), (' South',), (' Puerto-Rico',), (' Honduras',), (' England',), (' Canada',), (' Germany',), (' Iran',), (' Philippines',), (' Italy',), (' Poland',), (' Columbia',), (' Cambodia',), (' Thailand',), (' Ecuador',)]\n"
     ]
    }
   ],
   "source": [
    "conn = engine.connect()\n",
    "result = conn.execute('SELECT distinct(native_country)  FROM adults1 limit 20').fetchall()\n",
    "print(result)"
   ]
  },
  {
   "cell_type": "markdown",
   "metadata": {},
   "source": [
    "3. Write two delete queries"
   ]
  },
  {
   "cell_type": "code",
   "execution_count": 12,
   "metadata": {},
   "outputs": [
    {
     "name": "stdout",
     "output_type": "stream",
     "text": [
      "2018-12-31 15:23:17,101 INFO sqlalchemy.engine.base.Engine DELETE from adults where native_country=' Ecuador'\n",
      "2018-12-31 15:23:17,102 INFO sqlalchemy.engine.base.Engine ()\n",
      "2018-12-31 15:23:17,122 INFO sqlalchemy.engine.base.Engine COMMIT\n",
      "<sqlalchemy.engine.result.ResultProxy object at 0x07A85F90>\n"
     ]
    }
   ],
   "source": [
    "3#1 delete records with native country Ecuador \n",
    "conn = engine.connect()\n",
    "result = conn.execute(\"DELETE from adults1 where native_country=' Ecuador'\")\n",
    "print(result)"
   ]
  },
  {
   "cell_type": "code",
   "execution_count": 15,
   "metadata": {},
   "outputs": [
    {
     "name": "stdout",
     "output_type": "stream",
     "text": [
      "2018-12-31 15:24:06,929 INFO sqlalchemy.engine.base.Engine SELECT * from adults where native_country=' Ecuador'\n",
      "2018-12-31 15:24:06,931 INFO sqlalchemy.engine.base.Engine ()\n",
      "[]\n"
     ]
    }
   ],
   "source": [
    "conn = engine.connect()\n",
    "result = conn.execute(\"SELECT * from adults1 where native_country=' Ecuador'\").fetchall()\n",
    "print(result)"
   ]
  },
  {
   "cell_type": "code",
   "execution_count": 4,
   "metadata": {},
   "outputs": [
    {
     "name": "stdout",
     "output_type": "stream",
     "text": [
      "2018-12-31 15:43:45,409 INFO sqlalchemy.engine.base.Engine DELETE from adults1 where age='30'\n",
      "2018-12-31 15:43:45,410 INFO sqlalchemy.engine.base.Engine ()\n",
      "2018-12-31 15:43:45,464 INFO sqlalchemy.engine.base.Engine COMMIT\n",
      "<sqlalchemy.engine.result.ResultProxy object at 0x08F6DD70>\n"
     ]
    }
   ],
   "source": [
    "3#2 delete records with age 30\n",
    "conn = engine.connect()\n",
    "result = conn.execute(\"DELETE from adults1 where age='30'\")\n",
    "print(result)"
   ]
  },
  {
   "cell_type": "markdown",
   "metadata": {},
   "source": [
    "4.Write two filter queries"
   ]
  },
  {
   "cell_type": "code",
   "execution_count": 18,
   "metadata": {},
   "outputs": [
    {
     "name": "stdout",
     "output_type": "stream",
     "text": [
      "2018-12-31 15:49:52,069 INFO sqlalchemy.engine.base.Engine SELECT distinct(age) from adults1 where age>0 and age<100 order by age asc\n",
      "2018-12-31 15:49:52,071 INFO sqlalchemy.engine.base.Engine ()\n",
      "[(17,), (18,), (19,), (20,), (21,), (22,), (23,), (24,), (25,), (26,), (27,), (28,), (29,), (31,), (32,), (33,), (34,), (35,), (36,), (37,), (38,), (39,), (40,), (41,), (42,), (43,), (44,), (45,), (46,), (47,), (48,), (49,), (50,), (51,), (52,), (53,), (54,), (55,), (56,), (57,), (58,), (59,), (60,), (61,), (62,), (63,), (64,), (65,), (66,), (67,), (68,), (69,), (70,), (71,), (72,), (73,), (74,), (75,), (76,), (77,), (78,), (79,), (80,), (81,), (82,), (83,), (84,), (85,), (86,), (87,), (88,), (90,)]\n"
     ]
    }
   ],
   "source": [
    "#4.1 filter where age=29 and 30 \n",
    "# Observe that age 30 is not there as it is deleted in above statement\n",
    "conn = engine.connect()\n",
    "result = conn.execute(\"SELECT distinct(age) from adults1 where age>0 and age<100 order by age asc\").fetchall()\n",
    "print(result)"
   ]
  },
  {
   "cell_type": "code",
   "execution_count": 19,
   "metadata": {},
   "outputs": [
    {
     "name": "stdout",
     "output_type": "stream",
     "text": [
      "2018-12-31 15:49:56,837 INFO sqlalchemy.engine.base.Engine SELECT count(capital_gain-capital_loss) from adults1 where capital_gain-capital_loss>10000\n",
      "2018-12-31 15:49:56,839 INFO sqlalchemy.engine.base.Engine ()\n",
      "[(754,)]\n"
     ]
    }
   ],
   "source": [
    "#4.2 where profit<10000\n",
    "conn = engine.connect()\n",
    "result = conn.execute(\"SELECT count(capital_gain-capital_loss) from adults1 where capital_gain-capital_loss>10000\").fetchall()\n",
    "print(result)"
   ]
  },
  {
   "cell_type": "markdown",
   "metadata": {},
   "source": [
    "5.Write two function queries"
   ]
  },
  {
   "cell_type": "code",
   "execution_count": 52,
   "metadata": {},
   "outputs": [
    {
     "name": "stdout",
     "output_type": "stream",
     "text": [
      "2018-12-31 15:59:31,299 INFO sqlalchemy.engine.base.Engine SELECT max(adults1.age) AS max_1 \n",
      "FROM adults1\n",
      "2018-12-31 15:59:31,300 INFO sqlalchemy.engine.base.Engine ()\n",
      "Max Age of adult in dataset is : (90,)\n"
     ]
    }
   ],
   "source": [
    "#5.1 maximum age of adults in the given dataset\n",
    "from sqlalchemy import func,select,Column,Table,Integer\n",
    "meta = MetaData()\n",
    "adultsTab = Table(\n",
    "   'adults1', meta, \n",
    "   Column('age', Integer)\n",
    ")\n",
    "result = conn.execute(select([func.max(adultsTab.c.age)]))\n",
    "print (\"Max Age of adult in dataset is :\",result.fetchone())"
   ]
  },
  {
   "cell_type": "code",
   "execution_count": 58,
   "metadata": {},
   "outputs": [
    {
     "name": "stdout",
     "output_type": "stream",
     "text": [
      "2018-12-31 16:02:42,913 INFO sqlalchemy.engine.base.Engine SELECT avg(adults1.hours_per_week) AS avg_1 \n",
      "FROM adults1\n",
      "2018-12-31 16:02:42,914 INFO sqlalchemy.engine.base.Engine ()\n",
      "Average work hours of adults is : 40\n"
     ]
    }
   ],
   "source": [
    "#5.2 Average work hours of employee\n",
    "from sqlalchemy import func,select,Column,Table,Integer\n",
    "meta = MetaData()\n",
    "adultsTab = Table(\n",
    "   'adults1', meta, \n",
    "   Column('hours_per_week', Integer)\n",
    ")\n",
    "result = conn.execute(select([func.avg(adultsTab.c.hours_per_week)]))\n",
    "\n",
    "for row in result:\n",
    "    print ('Average work hours of adults is :',int(round(row[0])))"
   ]
  }
 ],
 "metadata": {
  "kernelspec": {
   "display_name": "Python 3",
   "language": "python",
   "name": "python3"
  },
  "language_info": {
   "codemirror_mode": {
    "name": "ipython",
    "version": 3
   },
   "file_extension": ".py",
   "mimetype": "text/x-python",
   "name": "python",
   "nbconvert_exporter": "python",
   "pygments_lexer": "ipython3",
   "version": "3.6.5"
  }
 },
 "nbformat": 4,
 "nbformat_minor": 2
}
